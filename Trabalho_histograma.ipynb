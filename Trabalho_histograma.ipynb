{
  "nbformat": 4,
  "nbformat_minor": 0,
  "metadata": {
    "colab": {
      "provenance": [],
      "gpuType": "T4"
    },
    "kernelspec": {
      "name": "python3",
      "display_name": "Python 3"
    },
    "language_info": {
      "name": "python"
    },
    "accelerator": "GPU"
  },
  "cells": [
    {
      "cell_type": "markdown",
      "source": [
        "1: Considere o seguinte cenário: Um vetor com 10000 posicoes que representam valores decimais \"notas academicas\".\n",
        "\n",
        "Com bases nestes dados, é necessário construir um histograma, o intervalo deste histograma representa intervalos de 1 com limite de 10.\n",
        "\n",
        "Exemplo: de 0 a 1, de 1.1 a 2, de 2.1 a 3, de 9.1 a 10.\n",
        "\n",
        "Com base nessa situcação entregue as seguintes respostas:\n",
        "\n",
        "- O valor de cada faixa do histograma\n",
        "- A soma destas faixas\n",
        "- O tempo de processamento\n",
        "\n",
        "Faça para uma modelagem serial e paralela."
      ],
      "metadata": {
        "id": "5RO580yAzcHt"
      }
    },
    {
      "cell_type": "markdown",
      "source": [
        "Código Serial em Python:\n",
        "\n",
        "\n"
      ],
      "metadata": {
        "id": "kIAVnEaD5Ai7"
      }
    },
    {
      "cell_type": "code",
      "execution_count": 4,
      "metadata": {
        "colab": {
          "base_uri": "https://localhost:8080/"
        },
        "collapsed": true,
        "id": "_Z7nnXI4vD68",
        "outputId": "0c0fcb6a-de09-47e6-a219-3e6dd1bcf65b"
      },
      "outputs": [
        {
          "output_type": "stream",
          "name": "stdout",
          "text": [
            "Faixa 0.0 a 1.0: Soma = 499882.55, Contagem = 1000384\n",
            "Faixa 1.0 a 2.0: Soma = 1501629.17, Contagem = 1000833\n",
            "Faixa 2.0 a 3.0: Soma = 2499157.62, Contagem = 999782\n",
            "Faixa 3.0 a 4.0: Soma = 3493081.28, Contagem = 998003\n",
            "Faixa 4.0 a 5.0: Soma = 4495425.53, Contagem = 998922\n",
            "Faixa 5.0 a 6.0: Soma = 5500863.48, Contagem = 1000112\n",
            "Faixa 6.0 a 7.0: Soma = 6510598.50, Contagem = 1001656\n",
            "Faixa 7.0 a 8.0: Soma = 7496786.51, Contagem = 999591\n",
            "Faixa 8.0 a 9.0: Soma = 8504827.06, Contagem = 1000530\n",
            "Faixa 9.0 a 10.0: Soma = 9501637.96, Contagem = 1000187\n",
            "\n",
            "Tempo de execução: 22.476538 segundos\n"
          ]
        }
      ],
      "source": [
        "import numpy as np\n",
        "import time\n",
        "\n",
        "NUM_NOTAS = 10000000\n",
        "NUM_FAIXAS = 10\n",
        "\n",
        "notas = np.random.uniform(0, 10, NUM_NOTAS)\n",
        "\n",
        "faixas = [(i * 1.0, (i + 1) * 1.0) for i in range(NUM_FAIXAS)]\n",
        "faixas = [(faixa[0], faixa[1] if i < NUM_FAIXAS - 1 else 10) for i, faixa in enumerate(faixas)]\n",
        "\n",
        "contagem_histograma = [0] * NUM_FAIXAS\n",
        "soma_histograma = [0.0] * NUM_FAIXAS\n",
        "\n",
        "start_time = time.time()\n",
        "\n",
        "for nota in notas:\n",
        "    for i in range(NUM_FAIXAS):\n",
        "        if faixas[i][0] <= nota < faixas[i][1]:\n",
        "            soma_histograma[i] += nota\n",
        "            contagem_histograma[i] += 1\n",
        "            break\n",
        "\n",
        "end_time = time.time()\n",
        "execution_time = end_time - start_time  # Calcula o tempo de execução\n",
        "\n",
        "for i in range(NUM_FAIXAS):\n",
        "    print(f\"Faixa {faixas[i][0]:.1f} a {faixas[i][1]:.1f}: Soma = {soma_histograma[i]:.2f}, Contagem = {contagem_histograma[i]}\")\n",
        "\n",
        "print(f\"\\nTempo de execução: {execution_time:.6f} segundos\")\n"
      ]
    },
    {
      "cell_type": "markdown",
      "source": [
        "Código Paralelisado em CUDA:\n",
        "\n"
      ],
      "metadata": {
        "id": "4Yx8M8c85FOB"
      }
    },
    {
      "cell_type": "code",
      "source": [
        "%%writefile histograma_cuda.cu\n",
        "#include <stdio.h>\n",
        "#include <stdlib.h>\n",
        "\n",
        "#define THREADS_PER_BLOCK 256\n",
        "\n",
        "__global__ void calcular_histograma(float *notas, float *faixas, int num_notas, int num_faixas, float *soma_histograma, int *contagem_histograma) {\n",
        "    int idx = blockDim.x * blockIdx.x + threadIdx.x;  // índice global da thread\n",
        "    if (idx < num_notas) {\n",
        "        float nota = notas[idx];\n",
        "        for (int i = 0; i < num_faixas; i++) {\n",
        "            if (nota >= faixas[2 * i] && nota <= faixas[2 * i + 1]) {\n",
        "                atomicAdd(&soma_histograma[i], nota);  // Soma atômica\n",
        "                atomicAdd(&contagem_histograma[i], 1); // Contagem atômica\n",
        "                break;\n",
        "            }\n",
        "        }\n",
        "    }\n",
        "}\n",
        "\n",
        "int main() {\n",
        "    int num_notas = 10000000;\n",
        "    int num_faixas = 10;\n",
        "\n",
        "    float *notas_h = (float *)malloc(num_notas * sizeof(float));\n",
        "    srand(42);\n",
        "    for (int i = 0; i < num_notas; i++) {\n",
        "        notas_h[i] = ((float) rand() / RAND_MAX) * 10.0;  // Gera valores entre 0 e 10\n",
        "    }\n",
        "\n",
        "    float faixas_h[] = {0.0, 1.0, 1.1, 2.0, 2.1, 3.0, 3.1, 4.0, 4.1, 5.0,\n",
        "                        5.1, 6.0, 6.1, 7.0, 7.1, 8.0, 8.1, 9.0, 9.1, 10.0};\n",
        "\n",
        "    float *soma_histograma_h = (float *)calloc(num_faixas, sizeof(float));\n",
        "    int *contagem_histograma_h = (int *)calloc(num_faixas, sizeof(int));\n",
        "\n",
        "    float *notas_d, *faixas_d, *soma_histograma_d;\n",
        "    int *contagem_histograma_d;\n",
        "\n",
        "    cudaMalloc((void **)&notas_d, num_notas * sizeof(float));\n",
        "    cudaMalloc((void **)&faixas_d, 2 * num_faixas * sizeof(float));\n",
        "    cudaMalloc((void **)&soma_histograma_d, num_faixas * sizeof(float));\n",
        "    cudaMalloc((void **)&contagem_histograma_d, num_faixas * sizeof(int));\n",
        "\n",
        "    cudaMemcpy(notas_d, notas_h, num_notas * sizeof(float), cudaMemcpyHostToDevice);\n",
        "    cudaMemcpy(faixas_d, faixas_h, 2 * num_faixas * sizeof(float), cudaMemcpyHostToDevice);\n",
        "    cudaMemcpy(soma_histograma_d, soma_histograma_h, num_faixas * sizeof(float), cudaMemcpyHostToDevice);\n",
        "    cudaMemcpy(contagem_histograma_d, contagem_histograma_h, num_faixas * sizeof(int), cudaMemcpyHostToDevice);\n",
        "\n",
        "    int num_blocos = (num_notas + THREADS_PER_BLOCK - 1) / THREADS_PER_BLOCK;\n",
        "\n",
        "    cudaEvent_t start, stop;\n",
        "    cudaEventCreate(&start);\n",
        "    cudaEventCreate(&stop);\n",
        "\n",
        "    cudaEventRecord(start, 0);\n",
        "\n",
        "    calcular_histograma<<<num_blocos, THREADS_PER_BLOCK>>>(notas_d, faixas_d, num_notas, num_faixas, soma_histograma_d, contagem_histograma_d);\n",
        "\n",
        "    cudaEventRecord(stop, 0);\n",
        "    cudaEventSynchronize(stop);\n",
        "\n",
        "    float milliseconds = 0;\n",
        "    cudaEventElapsedTime(&milliseconds, start, stop);\n",
        "\n",
        "    cudaMemcpy(soma_histograma_h, soma_histograma_d, num_faixas * sizeof(float), cudaMemcpyDeviceToHost);\n",
        "    cudaMemcpy(contagem_histograma_h, contagem_histograma_d, num_faixas * sizeof(int), cudaMemcpyDeviceToHost);\n",
        "\n",
        "    for (int i = 0; i < num_faixas; i++) {\n",
        "        printf(\"Faixa %.1f a %.1f:\\n\", faixas_h[2 * i], faixas_h[2 * i + 1]);\n",
        "        printf(\"  Soma dos valores: %.2f\\n\", soma_histograma_h[i]);\n",
        "        printf(\"  Contagem de valores: %d\\n\", contagem_histograma_h[i]);\n",
        "    }\n",
        "\n",
        "    printf(\"Tempo de execução: %.4f segundos\\n\", milliseconds / 1000);\n",
        "\n",
        "    cudaFree(notas_d);\n",
        "    cudaFree(faixas_d);\n",
        "    cudaFree(soma_histograma_d);\n",
        "    cudaFree(contagem_histograma_d);\n",
        "    free(notas_h);\n",
        "    free(soma_histograma_h);\n",
        "    free(contagem_histograma_h);\n",
        "\n",
        "    cudaEventDestroy(start);\n",
        "    cudaEventDestroy(stop);\n",
        "\n",
        "    return 0;\n",
        "}"
      ],
      "metadata": {
        "colab": {
          "base_uri": "https://localhost:8080/"
        },
        "id": "-ZQB7-UZ5O8-",
        "outputId": "e5fa7ff7-8024-42e5-d309-5e91dd2a768d"
      },
      "execution_count": 13,
      "outputs": [
        {
          "output_type": "stream",
          "name": "stdout",
          "text": [
            "Overwriting histograma_cuda.cu\n"
          ]
        }
      ]
    },
    {
      "cell_type": "code",
      "source": [
        "!nvcc histograma_cuda.cu -o histograma_cuda\n"
      ],
      "metadata": {
        "id": "3zdqe9R85nxW"
      },
      "execution_count": 14,
      "outputs": []
    },
    {
      "cell_type": "code",
      "source": [
        "!./histograma_cuda\n"
      ],
      "metadata": {
        "colab": {
          "base_uri": "https://localhost:8080/"
        },
        "id": "1MDM0A6q5pcW",
        "outputId": "cac4f1d5-0250-4b82-ffbe-cadd90dbc061"
      },
      "execution_count": 15,
      "outputs": [
        {
          "output_type": "stream",
          "name": "stdout",
          "text": [
            "Faixa 0.0 a 1.0:\n",
            "  Soma dos valores: 500527.16\n",
            "  Contagem de valores: 1001164\n",
            "Faixa 1.1 a 2.0:\n",
            "  Soma dos valores: 1394522.12\n",
            "  Contagem de valores: 899573\n",
            "Faixa 2.1 a 3.0:\n",
            "  Soma dos valores: 2296783.50\n",
            "  Contagem de valores: 900287\n",
            "Faixa 3.1 a 4.0:\n",
            "  Soma dos valores: 3198549.00\n",
            "  Contagem de valores: 900488\n",
            "Faixa 4.1 a 5.0:\n",
            "  Soma dos valores: 4096549.75\n",
            "  Contagem de valores: 899855\n",
            "Faixa 5.1 a 6.0:\n",
            "  Soma dos valores: 4996083.50\n",
            "  Contagem de valores: 899604\n",
            "Faixa 6.1 a 7.0:\n",
            "  Soma dos valores: 5895497.00\n",
            "  Contagem de valores: 899519\n",
            "Faixa 7.1 a 8.0:\n",
            "  Soma dos valores: 6794154.50\n",
            "  Contagem de valores: 899423\n",
            "Faixa 8.1 a 9.0:\n",
            "  Soma dos valores: 7691738.00\n",
            "  Contagem de valores: 899229\n",
            "Faixa 9.1 a 10.0:\n",
            "  Soma dos valores: 8599928.00\n",
            "  Contagem de valores: 900063\n",
            "Tempo de execução: 0.0267 segundos\n"
          ]
        }
      ]
    }
  ]
}