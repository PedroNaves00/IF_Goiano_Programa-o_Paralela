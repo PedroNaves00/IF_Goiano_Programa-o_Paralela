{
  "nbformat": 4,
  "nbformat_minor": 0,
  "metadata": {
    "colab": {
      "provenance": [],
      "gpuType": "T4"
    },
    "kernelspec": {
      "name": "python3",
      "display_name": "Python 3"
    },
    "language_info": {
      "name": "python"
    },
    "accelerator": "GPU"
  },
  "cells": [
    {
      "cell_type": "markdown",
      "source": [
        "Considere o algoritmo de ordenação Radix Sort:\n",
        "\n",
        "c. Realize a implementação serial para os seguintes casos:\n",
        "\t100, 1.000, 10.000, 100.000, 1.000.000 e 10.000.000\n",
        "\n",
        "d. Considere a letra c paralelizada\n",
        "\n"
      ],
      "metadata": {
        "id": "j59aeWLeBoMU"
      }
    },
    {
      "cell_type": "markdown",
      "source": [
        "c. Implementação Serial"
      ],
      "metadata": {
        "id": "0ZdA1zvglTax"
      }
    },
    {
      "cell_type": "code",
      "source": [
        "import random\n",
        "import time\n",
        "\n",
        "def radix_sort(arr):\n",
        "\n",
        "    def get_digit(number, place):\n",
        "        return (number // place) % 10\n",
        "\n",
        "    max_number = max(arr)\n",
        "\n",
        "    place = 1\n",
        "\n",
        "    while max_number // place > 0:\n",
        "\n",
        "        buckets = [[] for _ in range(10)]\n",
        "\n",
        "        for number in arr:\n",
        "            digit = get_digit(number, place)\n",
        "            buckets[digit].append(number)\n",
        "\n",
        "        arr = [num for bucket in buckets for num in bucket]\n",
        "\n",
        "\n",
        "        place *= 10\n",
        "\n",
        "    return arr\n",
        "\n",
        "def generate_random_list(size):\n",
        "\n",
        "    return [random.randint(0, 10**6) for _ in range(size)]\n",
        "\n",
        "def test_radix_sort():\n",
        "    sizes = [100, 1000, 10000, 100000, 1000000, 10000000]\n",
        "\n",
        "    for size in sizes:\n",
        "        arr = generate_random_list(size)\n",
        "\n",
        "        print(f\"\\nOrdenando {size} números...\")\n",
        "\n",
        "        start_time = time.time()\n",
        "        sorted_arr = radix_sort(arr)\n",
        "        end_time = time.time()\n",
        "\n",
        "        is_sorted = sorted_arr == sorted(arr)\n",
        "\n",
        "        print(f\"Tempo de execução: {end_time - start_time:.4f} segundos\")\n",
        "        print(\"Ordenação correta:\", is_sorted)\n",
        "\n",
        "test_radix_sort()\n"
      ],
      "metadata": {
        "id": "IfJIm6fccxb3",
        "colab": {
          "base_uri": "https://localhost:8080/"
        },
        "outputId": "45e0fd19-82c6-4649-a843-fe76eb11e47a"
      },
      "execution_count": null,
      "outputs": [
        {
          "output_type": "stream",
          "name": "stdout",
          "text": [
            "\n",
            "Ordenando 100 números...\n",
            "Tempo de execução: 0.0003 segundos\n",
            "Ordenação correta: True\n",
            "\n",
            "Ordenando 1000 números...\n",
            "Tempo de execução: 0.0015 segundos\n",
            "Ordenação correta: True\n",
            "\n",
            "Ordenando 10000 números...\n",
            "Tempo de execução: 0.0149 segundos\n",
            "Ordenação correta: True\n",
            "\n",
            "Ordenando 100000 números...\n",
            "Tempo de execução: 0.2481 segundos\n",
            "Ordenação correta: True\n",
            "\n",
            "Ordenando 1000000 números...\n",
            "Tempo de execução: 4.0370 segundos\n",
            "Ordenação correta: True\n",
            "\n",
            "Ordenando 10000000 números...\n",
            "Tempo de execução: 37.9137 segundos\n",
            "Ordenação correta: True\n"
          ]
        }
      ]
    },
    {
      "cell_type": "markdown",
      "source": [
        "d. Implementação Paralelizada"
      ],
      "metadata": {
        "id": "2VQmi2_ZlWdP"
      }
    },
    {
      "cell_type": "code",
      "source": [
        "!nvcc -o radix_sort radix_sort.cu"
      ],
      "metadata": {
        "id": "ESN0V1oZliyT"
      },
      "execution_count": 3,
      "outputs": []
    },
    {
      "cell_type": "code",
      "source": [
        "!./radix_sort"
      ],
      "metadata": {
        "id": "XsiLocNBl0pl",
        "colab": {
          "base_uri": "https://localhost:8080/"
        },
        "outputId": "5bb13b05-0780-40dd-e60d-867cf0a66f46"
      },
      "execution_count": 7,
      "outputs": [
        {
          "output_type": "stream",
          "name": "stdout",
          "text": [
            "Ordenando 100 números...\n",
            "Tempo de execução: 0.194449 segundos\n",
            "Ordenação correta: Não\n",
            "Ordenando 1000 números...\n",
            "Tempo de execução: 0.000486 segundos\n",
            "Ordenação correta: Não\n",
            "Ordenando 10000 números...\n",
            "Tempo de execução: 0.001313 segundos\n",
            "Ordenação correta: Não\n",
            "Ordenando 100000 números...\n",
            "Tempo de execução: 0.009575 segundos\n",
            "Ordenação correta: Não\n",
            "Ordenando 1000000 números...\n",
            "Tempo de execução: 0.091958 segundos\n",
            "Ordenação correta: Não\n",
            "Ordenando 10000000 números...\n",
            "Tempo de execução: 0.660813 segundos\n",
            "Ordenação correta: Não\n"
          ]
        }
      ]
    }
  ]
}